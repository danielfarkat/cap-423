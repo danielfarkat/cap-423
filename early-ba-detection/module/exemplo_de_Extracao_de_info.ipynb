{
 "cells": [
  {
   "cell_type": "code",
   "execution_count": 2,
   "metadata": {},
   "outputs": [],
   "source": [
    "import pandas as pd"
   ]
  },
  {
   "cell_type": "code",
   "execution_count": 3,
   "metadata": {},
   "outputs": [],
   "source": [
    "df = pd.read_json('/home/queimadas/git/cap-423/my_fork/cap-423/early-ba-detection/module/parque_nacional_de_brasilia/early_burned_area_2022_22LHL_30.json')"
   ]
  },
  {
   "cell_type": "code",
   "execution_count": 4,
   "metadata": {},
   "outputs": [],
   "source": [
    "df['firespots_that_touchs']=df['firespots_that']\n",
    "df['firespots_in_total']=df['amount_of_firespots']"
   ]
  },
  {
   "cell_type": "code",
   "execution_count": 5,
   "metadata": {},
   "outputs": [
    {
     "data": {
      "text/plain": [
       "Index(['day_before', 'day_after', 'item_before', 'item_after', 'ba_detect',\n",
       "       'pixels_of_ba', 'amount_of_firespots', 'firespots_that',\n",
       "       'firespots_that_touchs', 'firespots_in_total'],\n",
       "      dtype='object')"
      ]
     },
     "execution_count": 5,
     "metadata": {},
     "output_type": "execute_result"
    }
   ],
   "source": [
    "df.columns"
   ]
  },
  {
   "cell_type": "code",
   "execution_count": 6,
   "metadata": {},
   "outputs": [],
   "source": [
    "colunas_desejadas = ['day_before', 'day_after','ba_detect','pixels_of_ba','firespots_in_total','firespots_that_touchs', 'item_before','item_after']\n",
    "colunas_existentes = [col for col in colunas_desejadas if col in df.columns]\n",
    "df2 = df[colunas_existentes]\n"
   ]
  },
  {
   "cell_type": "code",
   "execution_count": 7,
   "metadata": {},
   "outputs": [
    {
     "data": {
      "text/html": [
       "<div>\n",
       "<style scoped>\n",
       "    .dataframe tbody tr th:only-of-type {\n",
       "        vertical-align: middle;\n",
       "    }\n",
       "\n",
       "    .dataframe tbody tr th {\n",
       "        vertical-align: top;\n",
       "    }\n",
       "\n",
       "    .dataframe thead th {\n",
       "        text-align: right;\n",
       "    }\n",
       "</style>\n",
       "<table border=\"1\" class=\"dataframe\">\n",
       "  <thead>\n",
       "    <tr style=\"text-align: right;\">\n",
       "      <th></th>\n",
       "      <th>day_before</th>\n",
       "      <th>day_after</th>\n",
       "      <th>ba_detect</th>\n",
       "      <th>pixels_of_ba</th>\n",
       "      <th>firespots_in_total</th>\n",
       "      <th>firespots_that_touchs</th>\n",
       "      <th>item_before</th>\n",
       "      <th>item_after</th>\n",
       "    </tr>\n",
       "  </thead>\n",
       "  <tbody>\n",
       "    <tr>\n",
       "      <th>46</th>\n",
       "      <td>2022-07-16</td>\n",
       "      <td>2022-07-18</td>\n",
       "      <td>1</td>\n",
       "      <td>513</td>\n",
       "      <td>141</td>\n",
       "      <td>29</td>\n",
       "      <td>S2B_MSIL2A_20220716T133149_N0400_R081_T22LHL_2...</td>\n",
       "      <td>S2A_MSIL2A_20220718T132251_N0400_R038_T22LHL_2...</td>\n",
       "    </tr>\n",
       "    <tr>\n",
       "      <th>71</th>\n",
       "      <td>2022-09-19</td>\n",
       "      <td>2022-09-24</td>\n",
       "      <td>1</td>\n",
       "      <td>874</td>\n",
       "      <td>197</td>\n",
       "      <td>49</td>\n",
       "      <td>S2A_MSIL2A_20220919T133151_N0400_R081_T22LHL_2...</td>\n",
       "      <td>S2B_MSIL2A_20220924T133149_N0400_R081_T22LHL_2...</td>\n",
       "    </tr>\n",
       "    <tr>\n",
       "      <th>72</th>\n",
       "      <td>2022-09-24</td>\n",
       "      <td>2022-09-26</td>\n",
       "      <td>1</td>\n",
       "      <td>199</td>\n",
       "      <td>82</td>\n",
       "      <td>2</td>\n",
       "      <td>S2B_MSIL2A_20220924T133149_N0400_R081_T22LHL_2...</td>\n",
       "      <td>S2A_MSIL2A_20220926T132241_N0400_R038_T22LHL_2...</td>\n",
       "    </tr>\n",
       "    <tr>\n",
       "      <th>74</th>\n",
       "      <td>2022-09-29</td>\n",
       "      <td>2022-10-01</td>\n",
       "      <td>1</td>\n",
       "      <td>290</td>\n",
       "      <td>2164</td>\n",
       "      <td>37</td>\n",
       "      <td>S2A_MSIL2A_20220929T133151_N0400_R081_T22LHL_2...</td>\n",
       "      <td>S2B_MSIL2A_20221001T132229_N0400_R038_T22LHL_2...</td>\n",
       "    </tr>\n",
       "    <tr>\n",
       "      <th>75</th>\n",
       "      <td>2022-10-01</td>\n",
       "      <td>2022-10-04</td>\n",
       "      <td>1</td>\n",
       "      <td>1235</td>\n",
       "      <td>1621</td>\n",
       "      <td>121</td>\n",
       "      <td>S2B_MSIL2A_20221001T132229_N0400_R038_T22LHL_2...</td>\n",
       "      <td>S2B_MSIL2A_20221004T133149_N0400_R081_T22LHL_2...</td>\n",
       "    </tr>\n",
       "    <tr>\n",
       "      <th>76</th>\n",
       "      <td>2022-10-04</td>\n",
       "      <td>2022-10-06</td>\n",
       "      <td>1</td>\n",
       "      <td>3223</td>\n",
       "      <td>730</td>\n",
       "      <td>106</td>\n",
       "      <td>S2B_MSIL2A_20221004T133149_N0400_R081_T22LHL_2...</td>\n",
       "      <td>S2A_MSIL2A_20221006T132241_N0400_R038_T22LHL_2...</td>\n",
       "    </tr>\n",
       "    <tr>\n",
       "      <th>77</th>\n",
       "      <td>2022-10-06</td>\n",
       "      <td>2022-10-11</td>\n",
       "      <td>1</td>\n",
       "      <td>246</td>\n",
       "      <td>1227</td>\n",
       "      <td>23</td>\n",
       "      <td>S2A_MSIL2A_20221006T132241_N0400_R038_T22LHL_2...</td>\n",
       "      <td>S2B_MSIL2A_20221011T132229_N0400_R038_T22LHL_2...</td>\n",
       "    </tr>\n",
       "    <tr>\n",
       "      <th>78</th>\n",
       "      <td>2022-10-11</td>\n",
       "      <td>2022-10-14</td>\n",
       "      <td>1</td>\n",
       "      <td>363</td>\n",
       "      <td>1163</td>\n",
       "      <td>40</td>\n",
       "      <td>S2B_MSIL2A_20221011T132229_N0400_R038_T22LHL_2...</td>\n",
       "      <td>S2B_MSIL2A_20221014T133149_N0400_R081_T22LHL_2...</td>\n",
       "    </tr>\n",
       "    <tr>\n",
       "      <th>79</th>\n",
       "      <td>2022-10-14</td>\n",
       "      <td>2022-10-16</td>\n",
       "      <td>1</td>\n",
       "      <td>1267</td>\n",
       "      <td>1470</td>\n",
       "      <td>59</td>\n",
       "      <td>S2B_MSIL2A_20221014T133149_N0400_R081_T22LHL_2...</td>\n",
       "      <td>S2A_MSIL2A_20221016T132241_N0400_R038_T22LHL_2...</td>\n",
       "    </tr>\n",
       "    <tr>\n",
       "      <th>80</th>\n",
       "      <td>2022-10-16</td>\n",
       "      <td>2022-11-05</td>\n",
       "      <td>1</td>\n",
       "      <td>3066</td>\n",
       "      <td>2280</td>\n",
       "      <td>79</td>\n",
       "      <td>S2A_MSIL2A_20221016T132241_N0400_R038_T22LHL_2...</td>\n",
       "      <td>S2A_MSIL2A_20221105T132241_N0400_R038_T22LHL_2...</td>\n",
       "    </tr>\n",
       "  </tbody>\n",
       "</table>\n",
       "</div>"
      ],
      "text/plain": [
       "    day_before   day_after  ba_detect  pixels_of_ba  firespots_in_total  \\\n",
       "46  2022-07-16  2022-07-18          1           513                 141   \n",
       "71  2022-09-19  2022-09-24          1           874                 197   \n",
       "72  2022-09-24  2022-09-26          1           199                  82   \n",
       "74  2022-09-29  2022-10-01          1           290                2164   \n",
       "75  2022-10-01  2022-10-04          1          1235                1621   \n",
       "76  2022-10-04  2022-10-06          1          3223                 730   \n",
       "77  2022-10-06  2022-10-11          1           246                1227   \n",
       "78  2022-10-11  2022-10-14          1           363                1163   \n",
       "79  2022-10-14  2022-10-16          1          1267                1470   \n",
       "80  2022-10-16  2022-11-05          1          3066                2280   \n",
       "\n",
       "    firespots_that_touchs                                        item_before  \\\n",
       "46                     29  S2B_MSIL2A_20220716T133149_N0400_R081_T22LHL_2...   \n",
       "71                     49  S2A_MSIL2A_20220919T133151_N0400_R081_T22LHL_2...   \n",
       "72                      2  S2B_MSIL2A_20220924T133149_N0400_R081_T22LHL_2...   \n",
       "74                     37  S2A_MSIL2A_20220929T133151_N0400_R081_T22LHL_2...   \n",
       "75                    121  S2B_MSIL2A_20221001T132229_N0400_R038_T22LHL_2...   \n",
       "76                    106  S2B_MSIL2A_20221004T133149_N0400_R081_T22LHL_2...   \n",
       "77                     23  S2A_MSIL2A_20221006T132241_N0400_R038_T22LHL_2...   \n",
       "78                     40  S2B_MSIL2A_20221011T132229_N0400_R038_T22LHL_2...   \n",
       "79                     59  S2B_MSIL2A_20221014T133149_N0400_R081_T22LHL_2...   \n",
       "80                     79  S2A_MSIL2A_20221016T132241_N0400_R038_T22LHL_2...   \n",
       "\n",
       "                                           item_after  \n",
       "46  S2A_MSIL2A_20220718T132251_N0400_R038_T22LHL_2...  \n",
       "71  S2B_MSIL2A_20220924T133149_N0400_R081_T22LHL_2...  \n",
       "72  S2A_MSIL2A_20220926T132241_N0400_R038_T22LHL_2...  \n",
       "74  S2B_MSIL2A_20221001T132229_N0400_R038_T22LHL_2...  \n",
       "75  S2B_MSIL2A_20221004T133149_N0400_R081_T22LHL_2...  \n",
       "76  S2A_MSIL2A_20221006T132241_N0400_R038_T22LHL_2...  \n",
       "77  S2B_MSIL2A_20221011T132229_N0400_R038_T22LHL_2...  \n",
       "78  S2B_MSIL2A_20221014T133149_N0400_R081_T22LHL_2...  \n",
       "79  S2A_MSIL2A_20221016T132241_N0400_R038_T22LHL_2...  \n",
       "80  S2A_MSIL2A_20221105T132241_N0400_R038_T22LHL_2...  "
      ]
     },
     "execution_count": 7,
     "metadata": {},
     "output_type": "execute_result"
    }
   ],
   "source": [
    "df2[(df2['ba_detect'] == 1) & (df2['pixels_of_ba'] > 100)]\n"
   ]
  },
  {
   "cell_type": "code",
   "execution_count": null,
   "metadata": {},
   "outputs": [],
   "source": [
    "import pystac_client as "
   ]
  },
  {
   "cell_type": "markdown",
   "metadata": {},
   "source": [
    "# Utilizando a literatura \n",
    "\n",
    "Podemos identificar algumas datas em que ocorrem queimadas na área, permitindo o acesso tanto à data anterior quanto à posterior ao incêndio. Isso nos possibilita analisar a quantidade de pixels da imagem que representam áreas queimadas, além de avaliar o número de focos de queima na região e a quantidade de focos que atingiram a área visível em ambas as imagens.\n",
    "\n",
    "Nesse contexto, um par de datas que registrou um grande volume de queimadas foi o período entre 26/06/2022 e 28/06/2022."
   ]
  }
 ],
 "metadata": {
  "kernelspec": {
   "display_name": "bdclab",
   "language": "python",
   "name": "python3"
  },
  "language_info": {
   "codemirror_mode": {
    "name": "ipython",
    "version": 3
   },
   "file_extension": ".py",
   "mimetype": "text/x-python",
   "name": "python",
   "nbconvert_exporter": "python",
   "pygments_lexer": "ipython3",
   "version": "3.10.15"
  }
 },
 "nbformat": 4,
 "nbformat_minor": 2
}
