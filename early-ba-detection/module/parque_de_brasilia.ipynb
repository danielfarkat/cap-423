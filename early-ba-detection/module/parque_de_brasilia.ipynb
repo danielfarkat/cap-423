{
 "cells": [
  {
   "cell_type": "code",
   "execution_count": 1,
   "metadata": {},
   "outputs": [],
   "source": [
    "from earlybadetection_new_Version import early_ba_detection  as eba"
   ]
  },
  {
   "cell_type": "code",
   "execution_count": null,
   "metadata": {},
   "outputs": [],
   "source": [
    "for i in range(2,5):\n",
    "    eba(f'202{i}', '22LHK','30','chapada_dos_veadeiros' )\n",
    "    eba(f'202{i}', '22LHL','30','chapada_dos_veadeiros' )\n",
    "    eba(f'202{i}', '23LKE','30','chapada_dos_veadeiros' )\n",
    "    eba(f'202{i}', '23LKF','30','chapada_dos_veadeiros' )"
   ]
  },
  {
   "cell_type": "code",
   "execution_count": null,
   "metadata": {},
   "outputs": [],
   "source": [
    "for i in range(2,5):\n",
    "    eba(f'202{i}', '22LHL','30','parque_nacional_de_brasilia' )"
   ]
  },
  {
   "cell_type": "code",
   "execution_count": null,
   "metadata": {},
   "outputs": [],
   "source": [
    "for i in range(2,5):\n",
    "    eba(f'202{i}', '23LRT','30','parque_nacional_do_caparao' )\n",
    "    eba(f'202{i}', '23KTC','30','parque_nacional_do_caparao' )"
   ]
  }
 ],
 "metadata": {
  "kernelspec": {
   "display_name": "bdclab",
   "language": "python",
   "name": "python3"
  },
  "language_info": {
   "codemirror_mode": {
    "name": "ipython",
    "version": 3
   },
   "file_extension": ".py",
   "mimetype": "text/x-python",
   "name": "python",
   "nbconvert_exporter": "python",
   "pygments_lexer": "ipython3",
   "version": "3.10.15"
  }
 },
 "nbformat": 4,
 "nbformat_minor": 2
}
